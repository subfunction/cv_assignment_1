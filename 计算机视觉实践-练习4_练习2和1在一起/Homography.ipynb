{
 "cells": [
  {
   "cell_type": "code",
   "execution_count": null,
   "id": "f14aa708",
   "metadata": {},
   "outputs": [],
   "source": [
    "import cv2\n",
    "import numpy as np\n",
    "import matplotlib.pyplot as plt\n",
    "\n",
    "# 显示图片\n",
    "def show(img1,img2):\n",
    "    plt.figure()\n",
    "    # 子图一\n",
    "    plt.subplot(1,2,1)\n",
    "    plt.imshow(img1)\n",
    "    plt.title(\"before(h*w={}*{})\".format(img1.shape[0],img1.shape[1]),c=\"r\")\n",
    "    plt.xticks([])\n",
    "    plt.yticks([])\n",
    "    # 子图二\n",
    "    plt.subplot(1,2,2)\n",
    "    plt.imshow(img2)\n",
    "    plt.title(\"after(h*w={}*{})\".format(img2.shape[0],img2.shape[1]),c=\"r\")\n",
    "    plt.xticks([])\n",
    "    plt.yticks([])\n",
    "    # 显示\n",
    "    plt.show()\n",
    "    plt.pause(5)\n",
    "\n",
    "if __name__==\"__main__\":\n",
    "    # 读取两个视角的图片\n",
    "    left=cv2.imread(\"C:\\\\Users\\\\26818\\\\Desktop\\\\left.jpg\")\n",
    "    right=cv2.imread(\"C:\\\\Users\\\\26818\\\\Desktop\\\\right.jpg\")\n",
    "    left=cv2.cvtColor(left,cv2.COLOR_BGR2RGB)\n",
    "    right=cv2.cvtColor(right,cv2.COLOR_BGR2RGB)\n",
    "    # 4组匹配点\n",
    "    left_points=np.array([[8,204],[327,10],[590,49],[375,304]])\n",
    "    right_points=np.array([[38,746],[90,73],[527,50],[549,770]])\n",
    "    # 计算单应性矩阵H:left->right\n",
    "    H,_=cv2.findHomography(left_points,right_points)\n",
    "    # 获取输出的尺寸\n",
    "    h,w=right.shape[:2]\n",
    "    print(\"h={},w={}\".format(h,w))\n",
    "    # 将left进行单应性变换到right\n",
    "    left_warp=cv2.warpPerspective(left,H,(w,h))\n",
    "    # 显示right和left_warp\n",
    "    show(right,left_warp) "
   ]
  }
 ],
 "metadata": {
  "kernelspec": {
   "display_name": "Python 3 (ipykernel)",
   "language": "python",
   "name": "python3"
  },
  "language_info": {
   "codemirror_mode": {
    "name": "ipython",
    "version": 3
   },
   "file_extension": ".py",
   "mimetype": "text/x-python",
   "name": "python",
   "nbconvert_exporter": "python",
   "pygments_lexer": "ipython3",
   "version": "3.9.13"
  }
 },
 "nbformat": 4,
 "nbformat_minor": 5
}
