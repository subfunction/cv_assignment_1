{
 "cells": [
  {
   "cell_type": "code",
   "execution_count": null,
   "id": "e618c70e",
   "metadata": {},
   "outputs": [],
   "source": [
    "from Common import *\n",
    "import PIL\n",
    "\n",
    "imgs,gt_masks,my_fnames=load_dataset('./data')\n",
    "num_segments=3  #将原图像分割成num_segments部分\n",
    "clustering_fn=hierarchical_clustering   #指定聚类方法为Kmeans\n",
    "feature_fn=color_position_features  #指定获取特征图的种类\n",
    "scale=0.01   #缩小原图\n",
    "mean_accuracy=0.0   #初始化平均准确率\n",
    "segmentations=[]\n",
    "\n",
    "for i,(img,gt_mask,my_fname) in enumerate(zip(imgs,gt_masks,my_fnames)):   #遍历每一对原图像和gt\n",
    "    segments=compute_segmentation(img,num_segments,clustering_fn=clustering_fn,feature_fn=feature_fn,scale=scale)   #计算出原图像的分割\n",
    "    segmentations.append(segments)\n",
    "    accuracy,mask=evaluate_segmentation(gt_mask,segments)  #计算图像分割的准确率\n",
    "    print('第%d张图像的准确率为: %0.4f' %(i+1,accuracy))\n",
    "    mean_accuracy+=accuracy\n",
    "    mask=(mask==0).astype(int)\n",
    "    plt.imshow(mask,cmap='binary')\n",
    "    plt.axis('off')\n",
    "    plt.savefig(\"./data/my/HAC/\"+my_fname)\n",
    "\n",
    "mean_accuracy=mean_accuracy/len(imgs)   #计算所有图像分割的平均准确率\n",
    "print('所有图像的平均准确率为: %0.4f' % mean_accuracy)\n"
   ]
  }
 ],
 "metadata": {
  "kernelspec": {
   "display_name": "Python 3 (ipykernel)",
   "language": "python",
   "name": "python3"
  },
  "language_info": {
   "codemirror_mode": {
    "name": "ipython",
    "version": 3
   },
   "file_extension": ".py",
   "mimetype": "text/x-python",
   "name": "python",
   "nbconvert_exporter": "python",
   "pygments_lexer": "ipython3",
   "version": "3.9.13"
  }
 },
 "nbformat": 4,
 "nbformat_minor": 5
}
